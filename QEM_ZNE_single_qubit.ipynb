{
 "cells": [
  {
   "cell_type": "markdown",
   "id": "8838721d",
   "metadata": {},
   "source": [
    "# For a single qubit, Quantum Error Mitigation (QEM) technique: Zero-Noise Extrapolation (ZNE) with Qiskit\n",
    "\n",
    "$ $\n",
    "\n",
    "In this notebook, we have implemented a __Quantum Error Mitigation (QEM)__ technique, called __Zero-Noise Extrapolation (ZNE)__, with the quantum software development kit __Qiskit__.\n",
    "\n",
    "The ZNE is used in quantum computing to mitigate the impact of noise and errors in quantum systems. It is specifically employed to improve the accuracy of quantum algorithms executed on Noisy Intermediate-Scale Quantum (NISQ) devices.\n",
    "\n",
    "The basic idea behind ZNE involves running the quantum algorithm multiple times with different levels of noise, ranging from low to high. By analyzing the correlation between the noise level and the obtained results, it becomes possible to extrapolate the expected outcome when the noise is completely eliminated or reduced to a negligible level. "
   ]
  },
  {
   "cell_type": "code",
   "execution_count": 1,
   "id": "a2fc62ac",
   "metadata": {},
   "outputs": [],
   "source": [
    "import numpy as np\n",
    "import matplotlib.pyplot as plt\n",
    "import time, copy\n",
    "\n",
    "\n",
    "\n",
    "from qiskit import QuantumCircuit, transpile                   #!pip install qiskit\n",
    "from qiskit_aer import AerSimulator\n",
    "from qiskit.visualization import plot_histogram                #!pip install qiskit[visualization]\n",
    "\n",
    "from qiskit_aer.noise import (NoiseModel, QuantumError, ReadoutError, pauli_error, \n",
    "                              depolarizing_error, thermal_relaxation_error)\n"
   ]
  },
  {
   "cell_type": "markdown",
   "id": "60d275c0",
   "metadata": {},
   "source": [
    "## Quantum circuit\n",
    "\n",
    "Our quantum circuit is made of a single qubit rotation around the y-axis $R_y$ by an angle."
   ]
  },
  {
   "cell_type": "code",
   "execution_count": 2,
   "id": "f4e75d55",
   "metadata": {},
   "outputs": [
    {
     "data": {
      "text/plain": [
       "<qiskit.circuit.instructionset.InstructionSet at 0x7fdb9ebc45e0>"
      ]
     },
     "execution_count": 2,
     "metadata": {},
     "output_type": "execute_result"
    }
   ],
   "source": [
    "ang = np.pi/5\n",
    "\n",
    "circ = QuantumCircuit(1)\n",
    "circ.ry(ang, 0)  \n"
   ]
  },
  {
   "cell_type": "markdown",
   "id": "9896d291",
   "metadata": {},
   "source": [
    "## Ideal simulator"
   ]
  },
  {
   "cell_type": "code",
   "execution_count": 3,
   "id": "106bbd80",
   "metadata": {},
   "outputs": [
    {
     "name": "stdout",
     "output_type": "stream",
     "text": [
      "        ┌─────────┐ ░ ┌─┐\n",
      "     q: ┤ Ry(π/5) ├─░─┤M├\n",
      "        └─────────┘ ░ └╥┘\n",
      "meas: 1/═══════════════╩═\n",
      "                       0 \n"
     ]
    },
    {
     "data": {
      "image/png": "[encoded data removed]",
      "text/plain": [
       "<Figure size 504x360 with 1 Axes>"
      ]
     },
     "execution_count": 3,
     "metadata": {},
     "output_type": "execute_result"
    }
   ],
   "source": [
    "sim_ideal = AerSimulator()\n",
    "\n",
    "circ_copy = copy.deepcopy(circ)\n",
    "circ_copy.measure_all()\n",
    "print(circ_copy)\n",
    "result_ideal = sim_ideal.run(circ_copy).result()\n",
    "counts_ideal = result_ideal.get_counts()\n",
    "\n",
    "\n",
    "plot_histogram(counts_ideal)"
   ]
  },
  {
   "cell_type": "code",
   "execution_count": 4,
   "id": "b8b06c35",
   "metadata": {},
   "outputs": [
    {
     "name": "stdout",
     "output_type": "stream",
     "text": [
      "extimated prob_ideal = [0.90722656 0.09277344]\n",
      "true prob = [0.9045085 0.0954915]\n"
     ]
    }
   ],
   "source": [
    "prob_ideal = [counts_ideal['0'], counts_ideal['1']]\n",
    "prob_ideal = prob_ideal/np.sum(prob_ideal)\n",
    "print(f'extimated prob_ideal = {prob_ideal}')\n",
    "\n",
    "prob = np.array([np.cos(ang/2), np.sin(ang/2)])**2\n",
    "print(f'true prob = {prob}')"
   ]
  },
  {
   "cell_type": "markdown",
   "id": "3c55258f",
   "metadata": {},
   "source": [
    "## Noise model "
   ]
  },
  {
   "cell_type": "code",
   "execution_count": 5,
   "id": "4429a5d3",
   "metadata": {},
   "outputs": [
    {
     "name": "stdout",
     "output_type": "stream",
     "text": [
      "NoiseModel:\n",
      "  Basis gates: ['cx', 'id', 'rx', 'ry', 'rz', 'sx']\n",
      "  Instructions with noise: ['rz', 'rx', 'ry']\n",
      "  All-qubits errors: ['rx', 'ry', 'rz']\n"
     ]
    }
   ],
   "source": [
    "noise_model = NoiseModel()                               # create an empty noise model\n",
    "\n",
    "param_ = 0.3\n",
    "error = depolarizing_error(param=param_, num_qubits=1)      # add depolarizing error to all single qubit ry gates\n",
    "noise_model.add_all_qubit_quantum_error(error, ['rx', 'ry', 'rz'])\n",
    "\n",
    "\n",
    "print(noise_model)"
   ]
  },
  {
   "cell_type": "markdown",
   "id": "1b3ccc46",
   "metadata": {},
   "source": [
    "## Noisy simulator"
   ]
  },
  {
   "cell_type": "code",
   "execution_count": 6,
   "id": "f7b9df36",
   "metadata": {},
   "outputs": [
    {
     "name": "stdout",
     "output_type": "stream",
     "text": [
      "        ┌─────────┐ ░ ┌─┐\n",
      "     q: ┤ Ry(π/5) ├─░─┤M├\n",
      "        └─────────┘ ░ └╥┘\n",
      "meas: 1/═══════════════╩═\n",
      "                       0 \n",
      "{'1': 220, '0': 804}\n"
     ]
    },
    {
     "data": {
      "image/png": "[encoded data removed]",
      "text/plain": [
       "<Figure size 504x360 with 1 Axes>"
      ]
     },
     "execution_count": 6,
     "metadata": {},
     "output_type": "execute_result"
    }
   ],
   "source": [
    "sim_noise = AerSimulator(noise_model=noise_model)            # create noisy simulator backend\n",
    "\n",
    "circ_copy = copy.deepcopy(circ)\n",
    "transpiled = transpile(circ_copy, sim_noise)                      # transpile circuit for noisy basis gates\n",
    "transpiled.measure_all()\n",
    "print(transpiled)\n",
    "\n",
    "result_noise = sim_noise.run(transpiled).result()            # run and get counts\n",
    "counts_noise = result_noise.get_counts()\n",
    "print(counts_noise)\n",
    "\n",
    "\n",
    "plot_histogram(counts_noise)"
   ]
  },
  {
   "cell_type": "code",
   "execution_count": 7,
   "id": "e6704507",
   "metadata": {},
   "outputs": [
    {
     "name": "stdout",
     "output_type": "stream",
     "text": [
      "extimated prob_noise = [0.78515625 0.21484375]\n",
      "\n",
      "extimated prob_ideal = [0.90722656 0.09277344]\n",
      "true prob = [0.9045085 0.0954915]\n"
     ]
    }
   ],
   "source": [
    "prob_noise = [counts_noise['0'], counts_noise['1']]\n",
    "prob_noise = prob_noise/np.sum(prob_noise)\n",
    "print(f'extimated prob_noise = {prob_noise}\\n')\n",
    "\n",
    "print(f'extimated prob_ideal = {prob_ideal}')\n",
    "print(f'true prob = {prob}')"
   ]
  },
  {
   "cell_type": "markdown",
   "id": "301681b4",
   "metadata": {},
   "source": [
    "$ $\n",
    "# 1st implementation\n",
    "## Quantum Error Mitigation: Zero-Noise Extrapolation (ZNE)\n",
    "\n",
    "The basic idea behind this ZNE implementation is repeatedly the noisy quantum circuit ($R_y$ gate) $k$ times and the measurement at the end.\n",
    "Here, $k=1,\\cdots,kmax$ acts as a measure of the noise level. As k increase, more and more noise accumulates.\n",
    "\n",
    "\n",
    "By analyzing the relation between the noise level ($k$) and the obtained probabilities for outcomes 0 and 1, it becomes possible to extrapolate the probabilities when the noise is eliminated (that corresponds to $k=0$). That will be the obtained error mitigated value. "
   ]
  },
  {
   "cell_type": "code",
   "execution_count": 8,
   "id": "859bdcba",
   "metadata": {},
   "outputs": [
    {
     "name": "stdout",
     "output_type": "stream",
     "text": [
      "k=1\n",
      "        ┌─────────┐ ░ ┌─┐\n",
      "     q: ┤ Ry(π/5) ├─░─┤M├\n",
      "        └─────────┘ ░ └╥┘\n",
      "meas: 1/═══════════════╩═\n",
      "                       0 \n",
      "k=2\n",
      "        ┌─────────┐┌─────────┐ ░ ┌─┐\n",
      "     q: ┤ Ry(π/5) ├┤ Ry(π/5) ├─░─┤M├\n",
      "        └─────────┘└─────────┘ ░ └╥┘\n",
      "meas: 1/══════════════════════════╩═\n",
      "                                  0 \n",
      "k=3\n",
      "        ┌─────────┐┌─────────┐┌─────────┐ ░ ┌─┐\n",
      "     q: ┤ Ry(π/5) ├┤ Ry(π/5) ├┤ Ry(π/5) ├─░─┤M├\n",
      "        └─────────┘└─────────┘└─────────┘ ░ └╥┘\n",
      "meas: 1/═════════════════════════════════════╩═\n",
      "                                             0 \n",
      "k=4\n",
      "        ┌─────────┐┌─────────┐┌─────────┐┌─────────┐ ░ ┌─┐\n",
      "     q: ┤ Ry(π/5) ├┤ Ry(π/5) ├┤ Ry(π/5) ├┤ Ry(π/5) ├─░─┤M├\n",
      "        └─────────┘└─────────┘└─────────┘└─────────┘ ░ └╥┘\n",
      "meas: 1/════════════════════════════════════════════════╩═\n",
      "                                                        0 \n",
      "k=5\n",
      "        ┌─────────┐┌─────────┐┌─────────┐┌─────────┐┌─────────┐ ░ ┌─┐\n",
      "     q: ┤ Ry(π/5) ├┤ Ry(π/5) ├┤ Ry(π/5) ├┤ Ry(π/5) ├┤ Ry(π/5) ├─░─┤M├\n",
      "        └─────────┘└─────────┘└─────────┘└─────────┘└─────────┘ ░ └╥┘\n",
      "meas: 1/═══════════════════════════════════════════════════════════╩═\n",
      "                                                                   0 \n",
      "k=6\n",
      "        ┌─────────┐┌─────────┐┌─────────┐┌─────────┐┌─────────┐┌─────────┐ ░ »\n",
      "     q: ┤ Ry(π/5) ├┤ Ry(π/5) ├┤ Ry(π/5) ├┤ Ry(π/5) ├┤ Ry(π/5) ├┤ Ry(π/5) ├─░─»\n",
      "        └─────────┘└─────────┘└─────────┘└─────────┘└─────────┘└─────────┘ ░ »\n",
      "meas: 1/═════════════════════════════════════════════════════════════════════»\n",
      "                                                                             »\n",
      "«        ┌─┐\n",
      "«     q: ┤M├\n",
      "«        └╥┘\n",
      "«meas: 1/═╩═\n",
      "«         0 \n",
      "k=7\n",
      "        ┌─────────┐┌─────────┐┌─────────┐┌─────────┐┌─────────┐┌─────────┐»\n",
      "     q: ┤ Ry(π/5) ├┤ Ry(π/5) ├┤ Ry(π/5) ├┤ Ry(π/5) ├┤ Ry(π/5) ├┤ Ry(π/5) ├»\n",
      "        └─────────┘└─────────┘└─────────┘└─────────┘└─────────┘└─────────┘»\n",
      "meas: 1/══════════════════════════════════════════════════════════════════»\n",
      "                                                                          »\n",
      "«        ┌─────────┐ ░ ┌─┐\n",
      "«     q: ┤ Ry(π/5) ├─░─┤M├\n",
      "«        └─────────┘ ░ └╥┘\n",
      "«meas: 1/═══════════════╩═\n",
      "«                       0 \n",
      "k=8\n",
      "        ┌─────────┐┌─────────┐┌─────────┐┌─────────┐┌─────────┐┌─────────┐»\n",
      "     q: ┤ Ry(π/5) ├┤ Ry(π/5) ├┤ Ry(π/5) ├┤ Ry(π/5) ├┤ Ry(π/5) ├┤ Ry(π/5) ├»\n",
      "        └─────────┘└─────────┘└─────────┘└─────────┘└─────────┘└─────────┘»\n",
      "meas: 1/══════════════════════════════════════════════════════════════════»\n",
      "                                                                          »\n",
      "«        ┌─────────┐┌─────────┐ ░ ┌─┐\n",
      "«     q: ┤ Ry(π/5) ├┤ Ry(π/5) ├─░─┤M├\n",
      "«        └─────────┘└─────────┘ ░ └╥┘\n",
      "«meas: 1/══════════════════════════╩═\n",
      "«                                  0 \n"
     ]
    },
    {
     "data": {
      "text/plain": [
       "array([[0.77734375, 0.22265625],\n",
       "       [0.57910156, 0.42089844],\n",
       "       [0.45214844, 0.54785156],\n",
       "       [0.40527344, 0.59472656],\n",
       "       [0.41796875, 0.58203125],\n",
       "       [0.453125  , 0.546875  ],\n",
       "       [0.47851562, 0.52148438],\n",
       "       [0.50390625, 0.49609375]])"
      ]
     },
     "execution_count": 8,
     "metadata": {},
     "output_type": "execute_result"
    }
   ],
   "source": [
    "\n",
    "def repeat_circuit(k):\n",
    "    print(f'k={k}')\n",
    "    circ_copy = copy.deepcopy(circ)\n",
    "    transpiled = transpile(circ_copy, sim_noise)                     # transpile circuit for noisy basis gates\n",
    "    for _ in range(k-1):\n",
    "        transpiled = transpiled.compose(transpile(circ_copy, sim_noise))\n",
    "        \n",
    "    \n",
    "    transpiled.measure_all()\n",
    "    print(transpiled)\n",
    "    result_noise = sim_noise.run(transpiled).result()         # run and get counts\n",
    "    counts_noise = result_noise.get_counts()\n",
    "    prob_noise = [counts_noise['0'], counts_noise['1']]\n",
    "    prob_noise = prob_noise/np.sum(prob_noise)\n",
    "    return prob_noise\n",
    "\n",
    "kmax = 9\n",
    "ks = []\n",
    "prob_noise_list = []\n",
    "\n",
    "for k in range(1, kmax):\n",
    "    ks.append(k)\n",
    "    #print(f'k={k}')\n",
    "    \n",
    "    prob_noise = repeat_circuit(k)\n",
    "    prob_noise_list.append(prob_noise)\n",
    "    \n",
    "\n",
    "prob_noise_list = np.array(prob_noise_list)  \n",
    "prob_noise_list"
   ]
  },
  {
   "cell_type": "code",
   "execution_count": 9,
   "id": "e69e607a",
   "metadata": {},
   "outputs": [
    {
     "name": "stdout",
     "output_type": "stream",
     "text": [
      "After error mitigation, probability (expectation value) for the outcome 0 = 0.922\n"
     ]
    },
    {
     "data": {
      "image/png": "[encoded data removed]",
      "text/plain": [
       "<Figure size 432x288 with 1 Axes>"
      ]
     },
     "metadata": {
      "needs_background": "light"
     },
     "output_type": "display_data"
    },
    {
     "name": "stdout",
     "output_type": "stream",
     "text": [
      "After error mitigation, probability (expectation value) for the outcome 1 = 0.078\n"
     ]
    },
    {
     "data": {
      "image/png": "[encoded data removed]",
      "text/plain": [
       "<Figure size 432x288 with 1 Axes>"
      ]
     },
     "metadata": {
      "needs_background": "light"
     },
     "output_type": "display_data"
    }
   ],
   "source": [
    "deg = 2\n",
    "\n",
    "def plot(probs, outcome):\n",
    "    f = np.poly1d(np.polyfit(x=ks, y=probs, deg=deg))  # fitted continuous function\n",
    "    plt.plot([f(k) for k in range(kmax)], c=f'C{outcome}')\n",
    "    print(f'After error mitigation, probability (expectation value) for the outcome {outcome} = {round(f(0),3)}')\n",
    "    \n",
    "    plt.scatter(ks, probs, c=f'C{outcome}')\n",
    "    plt.plot(0, prob[outcome], marker=\"*\", markersize=15, \n",
    "             markeredgecolor=\"green\",markerfacecolor=\"red\") # true prob probability marked by red star\n",
    "    plt.title(f'depolarizing_error (param = {param_})')\n",
    "    plt.ylabel(f'extimated probability for outcome {outcome}')\n",
    "    plt.xlabel('number of repetitions of the circuit = k')\n",
    "    plt.show()\n",
    "    return \n",
    "\n",
    "    \n",
    "for outcome in range(2):\n",
    "    plot(prob_noise_list[:,outcome], outcome)\n"
   ]
  },
  {
   "cell_type": "code",
   "execution_count": 10,
   "id": "dacd32b1",
   "metadata": {},
   "outputs": [
    {
     "name": "stdout",
     "output_type": "stream",
     "text": [
      "extimated prob_ideal = [0.90722656 0.09277344]\n",
      "true prob = [0.9045085 0.0954915]\n"
     ]
    }
   ],
   "source": [
    "print(f'extimated prob_ideal = {prob_ideal}')\n",
    "print(f'true prob = {prob}')"
   ]
  },
  {
   "cell_type": "markdown",
   "id": "ea1b4ff3",
   "metadata": {},
   "source": [
    "$ $\n",
    "\n",
    "# 2nd implementation\n",
    "## Quantum Error Mitigation: Zero-Noise Extrapolation (ZNE)\n",
    "\n",
    "In this ZNE implementation, measurement is not at the end but after every $Ry$."
   ]
  },
  {
   "cell_type": "code",
   "execution_count": 11,
   "id": "57e9925f",
   "metadata": {},
   "outputs": [
    {
     "name": "stdout",
     "output_type": "stream",
     "text": [
      "k=1\n",
      "        ┌─────────┐ ░ ┌─┐\n",
      "     q: ┤ Ry(π/5) ├─░─┤M├\n",
      "        └─────────┘ ░ └╥┘\n",
      "meas: 1/═══════════════╩═\n",
      "                       0 \n",
      "k=2\n",
      "        ┌─────────┐ ░ ┌─┐┌─────────┐ ░ ┌─┐\n",
      "     q: ┤ Ry(π/5) ├─░─┤M├┤ Ry(π/5) ├─░─┤M├\n",
      "        └─────────┘ ░ └╥┘└─────────┘ ░ └╥┘\n",
      "meas: 1/═══════════════╩════════════════╩═\n",
      "                       0                0 \n",
      "k=3\n",
      "        ┌─────────┐ ░ ┌─┐┌─────────┐ ░ ┌─┐┌─────────┐ ░ ┌─┐\n",
      "     q: ┤ Ry(π/5) ├─░─┤M├┤ Ry(π/5) ├─░─┤M├┤ Ry(π/5) ├─░─┤M├\n",
      "        └─────────┘ ░ └╥┘└─────────┘ ░ └╥┘└─────────┘ ░ └╥┘\n",
      "meas: 1/═══════════════╩════════════════╩════════════════╩═\n",
      "                       0                0                0 \n",
      "k=4\n",
      "        ┌─────────┐ ░ ┌─┐┌─────────┐ ░ ┌─┐┌─────────┐ ░ ┌─┐┌─────────┐ ░ ┌─┐\n",
      "     q: ┤ Ry(π/5) ├─░─┤M├┤ Ry(π/5) ├─░─┤M├┤ Ry(π/5) ├─░─┤M├┤ Ry(π/5) ├─░─┤M├\n",
      "        └─────────┘ ░ └╥┘└─────────┘ ░ └╥┘└─────────┘ ░ └╥┘└─────────┘ ░ └╥┘\n",
      "meas: 1/═══════════════╩════════════════╩════════════════╩════════════════╩═\n",
      "                       0                0                0                0 \n",
      "k=5\n",
      "        ┌─────────┐ ░ ┌─┐┌─────────┐ ░ ┌─┐┌─────────┐ ░ ┌─┐┌─────────┐ ░ ┌─┐»\n",
      "     q: ┤ Ry(π/5) ├─░─┤M├┤ Ry(π/5) ├─░─┤M├┤ Ry(π/5) ├─░─┤M├┤ Ry(π/5) ├─░─┤M├»\n",
      "        └─────────┘ ░ └╥┘└─────────┘ ░ └╥┘└─────────┘ ░ └╥┘└─────────┘ ░ └╥┘»\n",
      "meas: 1/═══════════════╩════════════════╩════════════════╩════════════════╩═»\n",
      "                       0                0                0                0 »\n",
      "«        ┌─────────┐ ░ ┌─┐\n",
      "«     q: ┤ Ry(π/5) ├─░─┤M├\n",
      "«        └─────────┘ ░ └╥┘\n",
      "«meas: 1/═══════════════╩═\n",
      "«                       0 \n",
      "k=6\n",
      "        ┌─────────┐ ░ ┌─┐┌─────────┐ ░ ┌─┐┌─────────┐ ░ ┌─┐┌─────────┐ ░ ┌─┐»\n",
      "     q: ┤ Ry(π/5) ├─░─┤M├┤ Ry(π/5) ├─░─┤M├┤ Ry(π/5) ├─░─┤M├┤ Ry(π/5) ├─░─┤M├»\n",
      "        └─────────┘ ░ └╥┘└─────────┘ ░ └╥┘└─────────┘ ░ └╥┘└─────────┘ ░ └╥┘»\n",
      "meas: 1/═══════════════╩════════════════╩════════════════╩════════════════╩═»\n",
      "                       0                0                0                0 »\n",
      "«        ┌─────────┐ ░ ┌─┐┌─────────┐ ░ ┌─┐\n",
      "«     q: ┤ Ry(π/5) ├─░─┤M├┤ Ry(π/5) ├─░─┤M├\n",
      "«        └─────────┘ ░ └╥┘└─────────┘ ░ └╥┘\n",
      "«meas: 1/═══════════════╩════════════════╩═\n",
      "«                       0                0 \n",
      "k=7\n",
      "        ┌─────────┐ ░ ┌─┐┌─────────┐ ░ ┌─┐┌─────────┐ ░ ┌─┐┌─────────┐ ░ ┌─┐»\n",
      "     q: ┤ Ry(π/5) ├─░─┤M├┤ Ry(π/5) ├─░─┤M├┤ Ry(π/5) ├─░─┤M├┤ Ry(π/5) ├─░─┤M├»\n",
      "        └─────────┘ ░ └╥┘└─────────┘ ░ └╥┘└─────────┘ ░ └╥┘└─────────┘ ░ └╥┘»\n",
      "meas: 1/═══════════════╩════════════════╩════════════════╩════════════════╩═»\n",
      "                       0                0                0                0 »\n",
      "«        ┌─────────┐ ░ ┌─┐┌─────────┐ ░ ┌─┐┌─────────┐ ░ ┌─┐\n",
      "«     q: ┤ Ry(π/5) ├─░─┤M├┤ Ry(π/5) ├─░─┤M├┤ Ry(π/5) ├─░─┤M├\n",
      "«        └─────────┘ ░ └╥┘└─────────┘ ░ └╥┘└─────────┘ ░ └╥┘\n",
      "«meas: 1/═══════════════╩════════════════╩════════════════╩═\n",
      "«                       0                0                0 \n",
      "k=8\n",
      "        ┌─────────┐ ░ ┌─┐┌─────────┐ ░ ┌─┐┌─────────┐ ░ ┌─┐┌─────────┐ ░ ┌─┐»\n",
      "     q: ┤ Ry(π/5) ├─░─┤M├┤ Ry(π/5) ├─░─┤M├┤ Ry(π/5) ├─░─┤M├┤ Ry(π/5) ├─░─┤M├»\n",
      "        └─────────┘ ░ └╥┘└─────────┘ ░ └╥┘└─────────┘ ░ └╥┘└─────────┘ ░ └╥┘»\n",
      "meas: 1/═══════════════╩════════════════╩════════════════╩════════════════╩═»\n",
      "                       0                0                0                0 »\n",
      "«        ┌─────────┐ ░ ┌─┐┌─────────┐ ░ ┌─┐┌─────────┐ ░ ┌─┐┌─────────┐ ░ ┌─┐\n",
      "«     q: ┤ Ry(π/5) ├─░─┤M├┤ Ry(π/5) ├─░─┤M├┤ Ry(π/5) ├─░─┤M├┤ Ry(π/5) ├─░─┤M├\n",
      "«        └─────────┘ ░ └╥┘└─────────┘ ░ └╥┘└─────────┘ ░ └╥┘└─────────┘ ░ └╥┘\n",
      "«meas: 1/═══════════════╩════════════════╩════════════════╩════════════════╩═\n",
      "«                       0                0                0                0 \n"
     ]
    },
    {
     "data": {
      "text/plain": [
       "array([[0.79296875, 0.20703125],\n",
       "       [0.69238281, 0.30761719],\n",
       "       [0.58691406, 0.41308594],\n",
       "       [0.546875  , 0.453125  ],\n",
       "       [0.51074219, 0.48925781],\n",
       "       [0.54492188, 0.45507812],\n",
       "       [0.50292969, 0.49707031],\n",
       "       [0.49609375, 0.50390625]])"
      ]
     },
     "execution_count": 11,
     "metadata": {},
     "output_type": "execute_result"
    }
   ],
   "source": [
    "def repeat_circuit(k):\n",
    "    print(f'k={k}')\n",
    "    circ_copy = copy.deepcopy(circ)\n",
    "    circ_copy.measure_all()\n",
    "    transpiled = transpile(circ_copy, sim_noise)                     # transpile circuit for noisy basis gates\n",
    "    for _ in range(k-1):\n",
    "        transpiled = transpiled.compose(transpile(circ_copy, sim_noise))\n",
    "        \n",
    "    print(transpiled)\n",
    "    result_noise = sim_noise.run(transpiled).result()         # run and get counts\n",
    "    counts_noise = result_noise.get_counts()\n",
    "    prob_noise = [counts_noise['0'], counts_noise['1']]\n",
    "    prob_noise = prob_noise/np.sum(prob_noise)\n",
    "    return prob_noise\n",
    "\n",
    "\n",
    "ks = []\n",
    "prob_noise_list = []\n",
    "\n",
    "for k in range(1, kmax):\n",
    "    ks.append(k)\n",
    "    #print(f'k={k}')\n",
    "    \n",
    "    prob_noise = repeat_circuit(k)\n",
    "    prob_noise_list.append(prob_noise)\n",
    "    \n",
    "\n",
    "prob_noise_list = np.array(prob_noise_list)  \n",
    "prob_noise_list"
   ]
  },
  {
   "cell_type": "code",
   "execution_count": 12,
   "id": "8b2339c2",
   "metadata": {},
   "outputs": [
    {
     "name": "stdout",
     "output_type": "stream",
     "text": [
      "After error mitigation, probability (expectation value) for the outcome 0 = 0.892\n"
     ]
    },
    {
     "data": {
      "image/png": "[encoded data removed]",
      "text/plain": [
       "<Figure size 432x288 with 1 Axes>"
      ]
     },
     "metadata": {
      "needs_background": "light"
     },
     "output_type": "display_data"
    },
    {
     "name": "stdout",
     "output_type": "stream",
     "text": [
      "After error mitigation, probability (expectation value) for the outcome 1 = 0.108\n"
     ]
    },
    {
     "data": {
      "image/png": "[encoded data removed]",
      "text/plain": [
       "<Figure size 432x288 with 1 Axes>"
      ]
     },
     "metadata": {
      "needs_background": "light"
     },
     "output_type": "display_data"
    }
   ],
   "source": [
    "for outcome in range(2):\n",
    "    plot(prob_noise_list[:,outcome], outcome)"
   ]
  },
  {
   "cell_type": "code",
   "execution_count": 13,
   "id": "9d586490",
   "metadata": {},
   "outputs": [
    {
     "name": "stdout",
     "output_type": "stream",
     "text": [
      "extimated prob_ideal = [0.90722656 0.09277344]\n",
      "true prob = [0.9045085 0.0954915]\n"
     ]
    }
   ],
   "source": [
    "print(f'extimated prob_ideal = {prob_ideal}')\n",
    "print(f'true prob = {prob}')"
   ]
  },
  {
   "cell_type": "code",
   "execution_count": null,
   "id": "a094c251",
   "metadata": {},
   "outputs": [],
   "source": []
  },
  {
   "cell_type": "code",
   "execution_count": null,
   "id": "45c6c268",
   "metadata": {},
   "outputs": [],
   "source": []
  },
  {
   "cell_type": "code",
   "execution_count": null,
   "id": "6f64a9dc",
   "metadata": {},
   "outputs": [],
   "source": []
  },
  {
   "cell_type": "markdown",
   "id": "7c4038b6",
   "metadata": {},
   "source": [
    "# "
   ]
  }
 ],
 "metadata": {
  "kernelspec": {
   "display_name": "Python 3 (ipykernel)",
   "language": "python",
   "name": "python3"
  },
  "language_info": {
   "codemirror_mode": {
    "name": "ipython",
    "version": 3
   },
   "file_extension": ".py",
   "mimetype": "text/x-python",
   "name": "python",
   "nbconvert_exporter": "python",
   "pygments_lexer": "ipython3",
   "version": "3.10.6"
  }
 },
 "nbformat": 4,
 "nbformat_minor": 5
}
